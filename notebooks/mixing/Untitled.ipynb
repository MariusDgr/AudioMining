{
 "cells": [
  {
   "cell_type": "code",
   "execution_count": 1,
   "metadata": {},
   "outputs": [],
   "source": [
    "%load_ext autoreload\n",
    "%autoreload 2"
   ]
  },
  {
   "cell_type": "code",
   "execution_count": 2,
   "metadata": {},
   "outputs": [
    {
     "name": "stdout",
     "output_type": "stream",
     "text": [
      "Project root path is:  D:\\Programming\\AudioMining\n"
     ]
    }
   ],
   "source": [
    "import os \n",
    "import sys\n",
    "\n",
    "projRootPath =  os.path.abspath(os.path.join('.' ,\"../..\"))\n",
    "print(\"Project root path is: \", projRootPath)\n",
    "sys.path.append(projRootPath)\n",
    "\n",
    "from src.utils.path_manipulation import contains_filetype\n",
    "\n",
    "# modules for visuals\n",
    "import matplotlib.pyplot as plt\n",
    "%matplotlib inline\n",
    "import seaborn as sns\n",
    "sns.set()\n",
    "\n",
    "# modules for data processing\n",
    "import numpy as np\n",
    "from scipy import signal\n",
    "from scipy.io import wavfile\n",
    "import wave\n",
    "import struct\n",
    "\n",
    "# modules for data mining\n",
    "import sklearn\n",
    "\n",
    "# and IPython.display for audio output\n",
    "import IPython.display\n",
    "\n",
    "# Librosa for audio\n",
    "import librosa\n",
    "# And the display module for visualization\n",
    "import librosa.display\n",
    "\n",
    "from pydub import AudioSegment"
   ]
  },
  {
   "cell_type": "code",
   "execution_count": null,
   "metadata": {},
   "outputs": [],
   "source": [
    "# Get data files\n",
    "dataDirName = \"data\"\n",
    "rawDataDirName = \"converted_wav\"\n",
    "className1 = \"violin\"\n",
    "className2 = \"guitar\"\n",
    "data_path1 = os.path.join(projRootPath, dataDirName, rawDataDirName, className1)\n",
    "data_path2 = os.path.join(projRootPath, dataDirName, rawDataDirName, className2)\n",
    "\n",
    "print(data_path1)\n",
    "print(data_path2)\n",
    "root_paths = []\n",
    "\n",
    "# Get all files from data_path \n",
    "# r=root, d=directories, f = files\n",
    "(_, d, allFiles) = next(os.walk(data_path1))\n",
    "wavFiles1 = [f for f in allFiles if f.endswith(\".wav\")]\n",
    "\n",
    "(_, d, allFiles) = next(os.walk(data_path2))\n",
    "wavFiles2 = [f for f in allFiles if f.endswith(\".wav\")]\n"
   ]
  },
  {
   "cell_type": "code",
   "execution_count": null,
   "metadata": {},
   "outputs": [],
   "source": [
    "# Mix two samples \n",
    "fs1, data1 = wavfile.read(os.path.join(data_path1, wavFiles1[3]))\n",
    "fs2, data2 = wavfile.read(os.path.join(data_path2, wavFiles2[2]))\n",
    "\n",
    "assert fs1 == fs2\n",
    "\n",
    "# pad with 0 so they are the same length\n",
    "if len(data1) < len(data2):\n",
    "    pad_len = len(data2) - len(data1)\n",
    "    pad_arr = np.zeros((1, pad_len))[0].astype(int)\n",
    "    data1 = np.concatenate((data1, pad_arr))\n",
    "elif len(data1) > len(data2):\n",
    "    pad_len = len(data1) - len(data2)\n",
    "    pad_arr = np.zeros((1, pad_len))[0].astype(int)\n",
    "    data2 = np.concatenate((data2, pad_arr))\n",
    "\n",
    "\n",
    "result = 0.5 * data1 + 0.5 * data2\n",
    "IPython.display.Audio(result, rate=fs1)"
   ]
  }
 ],
 "metadata": {
  "kernelspec": {
   "display_name": "Python 3",
   "language": "python",
   "name": "python3"
  },
  "language_info": {
   "codemirror_mode": {
    "name": "ipython",
    "version": 3
   },
   "file_extension": ".py",
   "mimetype": "text/x-python",
   "name": "python",
   "nbconvert_exporter": "python",
   "pygments_lexer": "ipython3",
   "version": "3.6.3"
  }
 },
 "nbformat": 4,
 "nbformat_minor": 2
}
