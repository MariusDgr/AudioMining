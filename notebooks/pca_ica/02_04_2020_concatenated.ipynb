{
 "cells": [
  {
   "cell_type": "code",
   "execution_count": 1,
   "metadata": {},
   "outputs": [],
   "source": [
    "%load_ext autoreload\n",
    "%autoreload 2"
   ]
  },
  {
   "cell_type": "code",
   "execution_count": 2,
   "metadata": {},
   "outputs": [
    {
     "name": "stdout",
     "output_type": "stream",
     "text": [
      "Project root path is:  D:\\Programming\\AudioMining\n"
     ]
    }
   ],
   "source": [
    "import os \n",
    "import sys\n",
    "\n",
    "projRootPath =  os.path.abspath(os.path.join('.' ,\"../..\"))\n",
    "print(\"Project root path is: \", projRootPath)\n",
    "sys.path.append(projRootPath)\n",
    "\n",
    "from src.utils.path_manipulation import contains_filetype\n",
    "from src.utils.viz_functions import make_mel_spectrogram\n",
    "from src.utils.sound_functions import mix_samples, read_mp3, write_mp3, pad_length_to_max\n",
    "\n",
    "# modules for visuals\n",
    "import matplotlib.pyplot as plt\n",
    "%matplotlib inline\n",
    "import seaborn as sns\n",
    "sns.set()\n",
    "\n",
    "# modules for data processing\n",
    "import numpy as np\n",
    "from scipy import signal\n",
    "from scipy.io import wavfile\n",
    "import wave\n",
    "import struct\n",
    "import csv\n",
    "import random\n",
    "from sklearn.preprocessing import StandardScaler, MinMaxScaler\n",
    "from sklearn.metrics import mean_squared_error \n",
    "\n",
    "# modules for data mining\n",
    "from sklearn.decomposition import pca, FastICA\n",
    "\n",
    "# and IPython.display for audio output\n",
    "from tqdm.notebook import tqdm \n",
    "import IPython.display\n",
    "\n",
    "# Librosa for audio\n",
    "import librosa\n",
    "# And the display module for visualization\n",
    "import librosa.display\n",
    "\n",
    "from pydub import AudioSegment"
   ]
  },
  {
   "cell_type": "code",
   "execution_count": 3,
   "metadata": {},
   "outputs": [],
   "source": [
    "# Get data files\n",
    "dataDirName = \"data\"\n",
    "# rawDataDirName = os.path.join(\"raw\", \"mp3\")\n",
    "rawDataDirName = \"converted_wav\"\n",
    "className1 = \"violin\"\n",
    "className2 = \"guitar\"\n",
    "data_path1 = os.path.join(projRootPath, dataDirName, rawDataDirName, className1)\n",
    "data_path2 = os.path.join(projRootPath, dataDirName, rawDataDirName, className2)\n",
    "\n",
    "# Get all files from data_path \n",
    "# r=root, d=directories, f = files\n",
    "file_extension = \".wav\"\n",
    "(_, d, allFiles) = next(os.walk(data_path1))\n",
    "soundFiles1 = [f for f in allFiles if f.endswith(file_extension)]\n",
    "\n",
    "(_, d, allFiles) = next(os.walk(data_path2))\n",
    "soundFiles2 = [f for f in allFiles if f.endswith(file_extension)]"
   ]
  },
  {
   "cell_type": "markdown",
   "metadata": {},
   "source": [
    "### concatenate more notes, duplicate and shuffle, then make model"
   ]
  },
  {
   "cell_type": "code",
   "execution_count": 4,
   "metadata": {},
   "outputs": [
    {
     "data": {
      "application/vnd.jupyter.widget-view+json": {
       "model_id": "1c34f028bdec46c3b9a6119ed88d301b",
       "version_major": 2,
       "version_minor": 0
      },
      "text/plain": [
       "HBox(children=(FloatProgress(value=1.0, bar_style='info', max=1.0), HTML(value='')))"
      ]
     },
     "metadata": {},
     "output_type": "display_data"
    },
    {
     "name": "stdout",
     "output_type": "stream",
     "text": [
      "\n"
     ]
    }
   ],
   "source": [
    "sdata1 = []\n",
    "sampleRates1 = []\n",
    "soundFiles = soundFiles1\n",
    "for indx, file in tqdm(enumerate(soundFiles)):\n",
    "    fpath = os.path.join(data_path1, file)\n",
    "#     soundSample, fs = read_mp3(fpath)\n",
    "    fs, soundSample = wavfile.read(fpath)\n",
    "    sdata1.append(soundSample)\n",
    "    sampleRates1.append(fs)"
   ]
  },
  {
   "cell_type": "code",
   "execution_count": 5,
   "metadata": {},
   "outputs": [
    {
     "data": {
      "application/vnd.jupyter.widget-view+json": {
       "model_id": "f7038cb6528d46b8a11086422b848c03",
       "version_major": 2,
       "version_minor": 0
      },
      "text/plain": [
       "HBox(children=(FloatProgress(value=1.0, bar_style='info', max=1.0), HTML(value='')))"
      ]
     },
     "metadata": {},
     "output_type": "display_data"
    },
    {
     "name": "stdout",
     "output_type": "stream",
     "text": [
      "\n"
     ]
    }
   ],
   "source": [
    "sdata2 = []\n",
    "sampleRates2 = []\n",
    "soundFiles = soundFiles2\n",
    "for indx, file in tqdm(enumerate(soundFiles)):\n",
    "    fpath = os.path.join(data_path2, file)\n",
    "#     soundSample, fs = read_mp3(fpath)\n",
    "    fs, soundSample = wavfile.read(fpath)\n",
    "    sdata2.append(soundSample)\n",
    "    sampleRates2.append(fs)"
   ]
  },
  {
   "cell_type": "code",
   "execution_count": 17,
   "metadata": {},
   "outputs": [
    {
     "name": "stdout",
     "output_type": "stream",
     "text": [
      "{'Fs6', 'B6', 'Fs7', 'Cs4', 'Ds4', 'G7', 'Gs4', 'Gs3', 'F4', 'Cs7', 'Cs5', 'A3', 'Ds7', 'D6', 'G6', 'B7', 'C7', 'As6', 'As4', 'B4', 'C8', 'E6', 'A7', 'D7', 'C4', 'Cs6', 'A5', 'E8', 'As3', 'A4', 'B3', 'F5', 'B5', 'D5', 'Ds5', 'Ds6', 'E4', 'C6', 'D4', 'Gs7', 'Gs5', 'G5', 'Fs5', 'G4', 'F6', 'E5', 'F7', 'Fs4', 'A6', 'C5', 'Gs6', 'As7', 'G3', 'E7', 'As5'}\n"
     ]
    }
   ],
   "source": [
    "violinNotes = set([x.split(\"_\")[1] for x in soundFiles1])\n",
    "print(violinNotes)"
   ]
  },
  {
   "cell_type": "code",
   "execution_count": 18,
   "metadata": {},
   "outputs": [
    {
     "name": "stdout",
     "output_type": "stream",
     "text": [
      "{'F2', 'Cs4', 'Ds4', 'Gs4', 'G2', 'Gs3', 'F4', 'A3', 'D3', 'Gs2', 'A2', 'As4', 'As2', 'B4', 'E6', 'E3', 'C4', 'C3', 'Cs3', 'As3', 'A4', 'B3', 'B5', 'D5', 'Ds3', 'Ds5', 'E4', 'C6', 'D4', 'Gs5', 'G5', 'Fs5', 'G4', 'Fs3', 'E5', 'B2', 'Fs4', 'E2', 'Fs2', 'C5', 'F3', 'G3'}\n"
     ]
    }
   ],
   "source": [
    "guitarNotes = set([x.split(\"_\")[1] for x in soundFiles2])\n",
    "print(guitarNotes)"
   ]
  }
 ],
 "metadata": {
  "kernelspec": {
   "display_name": "Python 3",
   "language": "python",
   "name": "python3"
  },
  "language_info": {
   "codemirror_mode": {
    "name": "ipython",
    "version": 3
   },
   "file_extension": ".py",
   "mimetype": "text/x-python",
   "name": "python",
   "nbconvert_exporter": "python",
   "pygments_lexer": "ipython3",
   "version": "3.6.3"
  }
 },
 "nbformat": 4,
 "nbformat_minor": 2
}
