{
 "cells": [
  {
   "cell_type": "code",
   "execution_count": 1,
   "metadata": {},
   "outputs": [],
   "source": [
    "%load_ext autoreload\n",
    "%autoreload 2"
   ]
  },
  {
   "cell_type": "code",
   "execution_count": 2,
   "metadata": {},
   "outputs": [
    {
     "name": "stdout",
     "output_type": "stream",
     "text": [
      "Project root path is:  D:\\Programming\\AudioMining\n"
     ]
    }
   ],
   "source": [
    "import os \n",
    "import sys\n",
    "\n",
    "projRootPath =  os.path.abspath(os.path.join('.' ,\"../..\"))\n",
    "print(\"Project root path is: \", projRootPath)\n",
    "sys.path.append(projRootPath)\n",
    "\n",
    "from src.utils.path_manipulation import contains_filetype\n",
    "from src.utils.viz_functions import make_mel_spectrogram\n",
    "from src.utils.sound_functions import mix_samples, read_mp3, write_mp3, pad_length_to_max\n",
    "\n",
    "# modules for visuals\n",
    "import matplotlib.pyplot as plt\n",
    "%matplotlib inline\n",
    "import seaborn as sns\n",
    "sns.set()\n",
    "\n",
    "# modules for data processing\n",
    "import numpy as np\n",
    "from scipy import signal\n",
    "from scipy.io import wavfile\n",
    "import wave\n",
    "import struct\n",
    "import csv\n",
    "import random\n",
    "from sklearn.preprocessing import StandardScaler\n",
    "\n",
    "# modules for data mining\n",
    "from sklearn.decomposition import pca\n",
    "\n",
    "# and IPython.display for audio output\n",
    "from tqdm.notebook import tqdm \n",
    "import IPython.display\n",
    "\n",
    "# Librosa for audio\n",
    "import librosa\n",
    "# And the display module for visualization\n",
    "import librosa.display\n",
    "\n",
    "from pydub import AudioSegment"
   ]
  },
  {
   "cell_type": "code",
   "execution_count": 4,
   "metadata": {},
   "outputs": [],
   "source": [
    "# Get data files\n",
    "dataDirName = \"data\"\n",
    "# rawDataDirName = os.path.join(\"raw\", \"mp3\")\n",
    "rawDataDirName = \"converted_wav\"\n",
    "className1 = \"violin\"\n",
    "className2 = \"guitar\"\n",
    "data_path1 = os.path.join(projRootPath, dataDirName, rawDataDirName, className1)\n",
    "data_path2 = os.path.join(projRootPath, dataDirName, rawDataDirName, className2)\n",
    "\n",
    "# Get all files from data_path \n",
    "# r=root, d=directories, f = files\n",
    "file_extension = \".wav\"\n",
    "(_, d, allFiles) = next(os.walk(data_path1))\n",
    "soundFiles1 = [f for f in allFiles if f.endswith(file_extension)]\n",
    "\n",
    "(_, d, allFiles) = next(os.walk(data_path2))\n",
    "soundFiles2 = [f for f in allFiles if f.endswith(file_extension)]"
   ]
  },
  {
   "cell_type": "code",
   "execution_count": 5,
   "metadata": {},
   "outputs": [],
   "source": [
    "# Get data files\n",
    "dataDirName = \"data\"\n",
    "# rawDataDirName = os.path.join(\"raw\", \"mp3\")\n",
    "rawDataDirName = \"converted_wav\"\n",
    "className1 = \"violin\"\n",
    "className2 = \"guitar\"\n",
    "data_path1 = os.path.join(projRootPath, dataDirName, rawDataDirName, className1)\n",
    "data_path2 = os.path.join(projRootPath, dataDirName, rawDataDirName, className2)\n",
    "\n",
    "# Get all files from data_path \n",
    "# r=root, d=directories, f = files\n",
    "file_extension = \".wav\"\n",
    "(_, d, allFiles) = next(os.walk(data_path1))\n",
    "soundFiles1 = [f for f in allFiles if f.endswith(file_extension)]\n",
    "\n",
    "(_, d, allFiles) = next(os.walk(data_path2))\n",
    "soundFiles2 = [f for f in allFiles if f.endswith(file_extension)]"
   ]
  },
  {
   "cell_type": "code",
   "execution_count": 13,
   "metadata": {},
   "outputs": [
    {
     "data": {
      "application/vnd.jupyter.widget-view+json": {
       "model_id": "f45f5f1f32af4b62a5af42fc950c4a2a",
       "version_major": 2,
       "version_minor": 0
      },
      "text/plain": [
       "HBox(children=(FloatProgress(value=1.0, bar_style='info', max=1.0), HTML(value='')))"
      ]
     },
     "metadata": {},
     "output_type": "display_data"
    },
    {
     "name": "stdout",
     "output_type": "stream",
     "text": [
      "\n"
     ]
    }
   ],
   "source": [
    "sdata1 = []\n",
    "sampleRates1 = []\n",
    "soundFiles = soundFiles1\n",
    "for indx, file in tqdm(enumerate(soundFiles)):\n",
    "    fpath = os.path.join(data_path1, file)\n",
    "#     soundSample, fs = read_mp3(fpath)\n",
    "    fs, soundSample = wavfile.read(fpath)\n",
    "    sdata1.append(soundSample)\n",
    "    sampleRates1.append(fs)\n",
    "        "
   ]
  },
  {
   "cell_type": "code",
   "execution_count": 14,
   "metadata": {},
   "outputs": [
    {
     "data": {
      "application/vnd.jupyter.widget-view+json": {
       "model_id": "cc5fa971bce84958a272bd36cbdd85b1",
       "version_major": 2,
       "version_minor": 0
      },
      "text/plain": [
       "HBox(children=(FloatProgress(value=1.0, bar_style='info', max=1.0), HTML(value='')))"
      ]
     },
     "metadata": {},
     "output_type": "display_data"
    },
    {
     "name": "stdout",
     "output_type": "stream",
     "text": [
      "\n",
      "[array([0, 0, 0, ..., 0, 0, 0], dtype=int16), array([0, 0, 0, ..., 0, 0, 0], dtype=int16), array([0, 0, 0, ..., 0, 0, 0], dtype=int16)]\n"
     ]
    }
   ],
   "source": [
    "sdata2 = []\n",
    "sampleRates2 = []\n",
    "soundFiles = soundFiles2\n",
    "for indx, file in tqdm(enumerate(soundFiles)):\n",
    "    fpath = os.path.join(data_path2, file)\n",
    "#     soundSample, fs = read_mp3(fpath)\n",
    "    fs, soundSample = wavfile.read(fpath)\n",
    "    sdata2.append(soundSample)\n",
    "    sampleRates2.append(fs)\n",
    "\n",
    "print(sdata2[:3])"
   ]
  },
  {
   "cell_type": "code",
   "execution_count": 15,
   "metadata": {},
   "outputs": [
    {
     "name": "stdout",
     "output_type": "stream",
     "text": [
      "True\n",
      "True\n"
     ]
    }
   ],
   "source": [
    "### Check that sampling rate is the same\n",
    "print(min(sampleRates1) == max(sampleRates1))\n",
    "print(min(sampleRates2) == max(sampleRates2))"
   ]
  },
  {
   "cell_type": "code",
   "execution_count": 16,
   "metadata": {},
   "outputs": [],
   "source": [
    "## Select only the samples shorter than threshold\n",
    "lenThreshold = 300000\n",
    "sdata1 = [x for x in sdata1 if len(x) <= lenThreshold]\n",
    "sdata2 = [x for x in sdata2 if len(x) <= lenThreshold]\n",
    "\n",
    "random.shuffle(sdata1)\n",
    "random.shuffle(sdata2)\n",
    "\n",
    "## Pad the length of the samples for matrix building\n",
    "sdata1 = pad_length_to_max(sdata1)\n",
    "sdata2 = pad_length_to_max(sdata2)\n",
    "\n",
    "trainset1 = sdata1[:50]\n",
    "trainset2 = sdata2[:50]\n",
    "\n",
    "valset1 = sdata1[50:100]\n",
    "valset2 = sdata2[50:]\n",
    "\n",
    "# subset1 = random.sample(sdata1, 50)\n",
    "# subset2 = random.sample(sdata2, 50)\n",
    "\n",
    "\n"
   ]
  },
  {
   "cell_type": "code",
   "execution_count": 18,
   "metadata": {},
   "outputs": [
    {
     "name": "stdout",
     "output_type": "stream",
     "text": [
      "-451 452\n"
     ]
    }
   ],
   "source": [
    "print(min(trainset1[0]), max(trainset1[0]))"
   ]
  },
  {
   "cell_type": "code",
   "execution_count": 17,
   "metadata": {},
   "outputs": [
    {
     "data": {
      "application/vnd.jupyter.widget-view+json": {
       "model_id": "89d7b2b92b294d79830ae95d59fef42b",
       "version_major": 2,
       "version_minor": 0
      },
      "text/plain": [
       "HBox(children=(FloatProgress(value=1.0, bar_style='info', max=1.0), HTML(value='')))"
      ]
     },
     "metadata": {},
     "output_type": "display_data"
    },
    {
     "name": "stdout",
     "output_type": "stream",
     "text": [
      "\n",
      "[(array([0., 0., 0., ..., 0., 0., 0.]), 0, 0), (array([0., 0., 0., ..., 0., 0., 0.]), 0, 1), (array([0., 0., 0., ..., 0., 0., 0.]), 0, 2)]\n"
     ]
    }
   ],
   "source": [
    "mixed_samples = []\n",
    "for i1, s1 in tqdm(enumerate(subset1)):\n",
    "    for i2, s2 in enumerate(subset2):\n",
    "        mixed_samples.append((mix_samples(s1, s2), i1, i2))\n",
    "        \n",
    "                             \n",
    "print(mixed_samples[:3])        "
   ]
  },
  {
   "cell_type": "code",
   "execution_count": null,
   "metadata": {},
   "outputs": [],
   "source": [
    "IPython.display.Audio( mixed_samples[1402][0], rate=sampleRates1[2])"
   ]
  }
 ],
 "metadata": {
  "kernelspec": {
   "display_name": "Python 3",
   "language": "python",
   "name": "python3"
  },
  "language_info": {
   "codemirror_mode": {
    "name": "ipython",
    "version": 3
   },
   "file_extension": ".py",
   "mimetype": "text/x-python",
   "name": "python",
   "nbconvert_exporter": "python",
   "pygments_lexer": "ipython3",
   "version": "3.6.3"
  }
 },
 "nbformat": 4,
 "nbformat_minor": 2
}
